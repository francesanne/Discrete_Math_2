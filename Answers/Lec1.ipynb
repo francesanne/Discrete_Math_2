{
 "cells": [
  {
   "cell_type": "markdown",
   "metadata": {},
   "source": [
    "## $\\textbf{Lecture 1}$\n",
    "<p>\n",
    "<b> Submitted By:</b> Frances Anne B. Riconalla <br>\n",
    "<b>CIS 1203</b>: Group 2\n",
    "</p>\n",
    "\n",
    "<br><br>\n"
   ]
  },
  {
   "cell_type": "markdown",
   "metadata": {},
   "source": [
    "#### $\\textbf{Problem 1: }$"
   ]
  },
  {
   "cell_type": "markdown",
   "metadata": {},
   "source": [
    "<b>Step 1: </b> Proof by Contradiction\n",
    "\n",
    "To prove that Euler's number $e$ is irrational, we'll proceed by contradiction. \n",
    "Suppose $e$ is rational, meaning it can be expressed as the ratio of two integers $p$ and $q$, where $q \\neq 0$.\n",
    "\n",
    "- $e = \\frac{p}{q}$\n",
    "\n",
    "<b>Step 2: </b> Recall the definition of $e$ as the sum of the series $\\sum_{k=0}^\\infty \\frac{1}{k!}$. \n",
    "\n",
    "This means:\n",
    "\n",
    "- $ e = \\frac{1}{0!} + \\frac{1}{1!} + \\frac{1}{2!} + \\frac{1}{3!} + \\ldots $\n",
    "\n",
    "<b>Step 3: </b> Consider the partial sum of the series:\n",
    "\n",
    "- $ S_n = \\frac{1}{0!} + \\frac{1}{1!} + \\frac{1}{2!} + \\frac{1}{3!} + \\ldots + \\frac{1}{n!} $\n",
    "\n",
    "For some positive integer $n$. Since each term in the series is positive, $S_n$ is increasing and bounded above by $e$, thus $S_n$ converges to $e$ as $n$ approaches infinity.\n",
    "\n",
    "<b>Step 4: </b> Now, let's consider the number:\n",
    "\n",
    "- $ q! \\cdot S_n = q! \\cdot \\left(\\frac{1}{0!} + \\frac{1}{1!} + \\frac{1}{2!} + \\frac{1}{3!} + \\ldots + \\frac{1}{n!}\\right) $\n",
    "\n",
    "<b>Step 5: </b> Expanding this expression:\n",
    "\n",
    "- $ q! \\cdot S_n = q! + \\frac{q!}{1!} + \\frac{q!}{2!} + \\frac{q!}{3!} + \\ldots + \\frac{q!}{n!} $\n",
    "\n",
    "<b>Step 6: </b> Implications:\n",
    "Every term in this expression is an integer. Also, since $S_n$ converges to $e$, $q! \\cdot S_n$ should be very close to $q! \\cdot e = p$. This implies that $p - q! \\cdot S_n$ should be a very small positive integer.\n",
    "\n",
    "- $ p - q! \\cdot S_n = p - (q! + \\frac{q!}{1!} + \\frac{q!}{2!} + \\frac{q!}{3!} + \\ldots + \\frac{q!}{n!}) $\n",
    "\n",
    "- $ p - q! \\cdot S_n = p - q! - \\frac{q!}{1!} - \\frac{q!}{2!} - \\frac{q!}{3!} - \\ldots - \\frac{q!}{n!} $\n",
    "\n",
    "- $ p - q! \\cdot S_n = (p - q!) - \\frac{q!}{1!} - \\frac{q!}{2!} - \\frac{q!}{3!} - \\ldots - \\frac{q!}{n!} $\n",
    "\n",
    "<b>Step 7: </b>\n",
    "\n",
    "Each term in the parentheses is an integer, and each term in the summation is a fraction with the denominator greater than 1. Thus, $p - q! \\cdot S_n$ must be a non-zero positive integer.\n",
    "\n",
    "However, this contradicts the fact that $e = \\frac{p}{q}$ because $q! \\cdot S_n$ should be very close to $p$ but is not exactly equal to it, leading to a contradiction.\n",
    "\n",
    "<b>Conclusion: </b>Therefore, our assumption that $e$ is rational must be **false**, and thus $e \\notin \\mathbb{Q}$. <br><br><br>"
   ]
  },
  {
   "cell_type": "markdown",
   "metadata": {},
   "source": [
    "#### $\\textbf{Problem 2: }$"
   ]
  },
  {
   "cell_type": "markdown",
   "metadata": {},
   "source": [
    "\n",
    "The proof involves using Hölder's inequality. Let $q$ be the conjugate exponent of $p$ (i.e., $\\frac{1}{p} + \\frac{1}{q} = 1$).\n",
    "\n",
    "Apply Hölder's inequality with $p$ and $q$ to the sequences $(|a_k|^p)$ and $(1)$, and to the sequences $(|b_k|^p)$ and $(1)$:\n",
    "\n",
    "\\[ $\\sum_{k=1}^n |a_k|^p \\cdot 1 \\leq \\left(\\sum_{k=1}^n |a_k|^p\\right)^\\frac{1}{p} \\left(\\sum_{k=1}^n 1^q\\right)^\\frac{1}{q} = \\left(\\sum_{k=1}^n |a_k|^p\\right)^\\frac{1}{p} \\cdot n^\\frac{1}{q} $\\]\n",
    "\\[ $\\sum_{k=1}^n |b_k|^p \\cdot 1 \\leq \\left(\\sum_{k=1}^n |b_k|^p\\right)^\\frac{1}{p} \\left(\\sum_{k=1}^n 1^q\\right)^\\frac{1}{q} = \\left(\\sum_{k=1}^n |b_k|^p\\right)^\\frac{1}{p} \\cdot n^\\frac{1}{q} $\\]\n",
    "\n",
    "Add these inequalities:\n",
    "\n",
    "\\[ $\\sum_{k=1}^n |a_k|^p + \\sum_{k=1}^n |b_k|^p \\leq \\left(\\sum_{k=1}^n |a_k|^p\\right)^\\frac{1}{p} \\cdot n^\\frac{1}{q} + \\left(\\sum_{k=1}^n |b_k|^p\\right)^\\frac{1}{p} \\cdot n^\\frac{1}{q} $\\]\n",
    "\n",
    "\\[ $\\sum_{k=1}^n (|a_k|^p + |b_k|^p) \\leq \\left(\\sum_{k=1}^n |a_k|^p\\right)^\\frac{1}{p} \\cdot n^\\frac{1}{q} + \\left(\\sum_{k=1}^n |b_k|^p\\right)^\\frac{1}{p} \\cdot n^\\frac{1}{q} $\\]\n",
    "\n",
    "Now, raise both sides to the power of $\\frac{1}{p}$:\n",
    "\n",
    "\\[ $\\left(\\sum_{k=1}^n (|a_k|^p + |b_k|^p)\\right)^\\frac{1}{p} \\leq \\left(\\left(\\sum_{k=1}^n |a_k|^p\\right)^\\frac{1}{p} \\cdot n^\\frac{1}{q} + \\left(\\sum_{k=1}^n |b_k|^p\\right)^\\frac{1}{p} \\cdot n^\\frac{1}{q}\\right)^\\frac{1}{p} $\\]\n",
    "\n",
    "\\[ $\\left(\\sum_{k=1}^n (|a_k + b_k|^p)\\right)^\\frac{1}{p} \\leq \\left(\\sum_{k=1}^n |a_k|^p\\right)^\\frac{1}{p} + \\left(\\sum_{k=1}^n |b_k|^p\\right)^\\frac{1}{p} $\\]\n",
    "\n",
    "Which proves Minkowski's Inequality. <br><br><br>"
   ]
  },
  {
   "cell_type": "markdown",
   "metadata": {},
   "source": [
    "#### $\\textbf{Problem 3: }$"
   ]
  },
  {
   "cell_type": "markdown",
   "metadata": {},
   "source": [
    "To prove the triangle inequality $|x + y| \\leq |x| + |y|$ for all $x, y \\in \\mathbb{R}$, we can use several approaches. \n",
    "\n",
    "We'll split this into several cases:\n",
    "\n",
    "1. If $x \\geq 0$ and $y \\geq 0$:<br>\n",
    "\\[ |x + y| = x + y \\]<br>\n",
    "\\[ |x| + |y| = x + y \\]<br>\n",
    "\\[ |x + y| = |x| + |y| \\]<br><br>\n",
    "\n",
    "2. If $x \\geq 0$ and $y < 0$:<br>\n",
    "\\[ |x + y| = x - y \\]<br>\n",
    "\\[ |x| + |y| = x + (-y) \\]<br>\n",
    "\\[ |x + y| = |x| + |y| \\]<br><br>\n",
    "\n",
    "3. If $x < 0$ and $y \\geq 0$:<br>\n",
    "\\[ |x + y| = -x + y \\]<br>\n",
    "\\[ |x| + |y| = (-x) + y \\]<br>\n",
    "\\[ |x + y| = |x| + |y| \\]<br><br>\n",
    "\n",
    "4. If $x < 0$ and $y < 0$:<br>\n",
    "\\[ |x + y| = -x - y \\]<br>\n",
    "\\[ |x| + |y| = (-x) + (-y) \\]<br>\n",
    "\\[ |x + y| = |x| + |y| \\]<br><br>\n",
    "\n",
    "In all cases, we can see that $|x + y| \\leq |x| + |y|$ holds. Therefore, the triangle inequality $|x + y| \\leq |x| + |y|$ is proved for all $x, y \\in \\mathbb{R}$.<br><br><br>\n"
   ]
  },
  {
   "cell_type": "markdown",
   "metadata": {},
   "source": [
    "#### $\\textbf{Problem 4: }$"
   ]
  },
  {
   "cell_type": "markdown",
   "metadata": {},
   "source": [
    "<b>Step 1: </b> Using Cauchy-Schwarz Inequality\n",
    "\n",
    "We want to prove Sedrakayan's Lemma, which states:\n",
    "\n",
    "- For any positive real numbers $u_i$ and $v_i$ (where $i$ ranges from 1 to $n$):\n",
    "\n",
    "\\begin{gathered} \\frac{\\left(\\sum_{i=1}^n u_i\\right)^2}{\\sum_{i=1}^n v_i} \\leq \\sum_{i=1}^n \\frac{u_i^2}{v_i} \\end{gathered}\n",
    "\n",
    "\n",
    "To prove this, we'll use the Cauchy-Schwarz Inequality.\n",
    "\n",
    "<b>Step 2: </b> Define:\n",
    "- $\\mathbf{u} = (u_1, u_2, ..., u_n)$\n",
    "- $\\mathbf{v} = (\\sqrt{v_1}, \\sqrt{v_2}, ..., \\sqrt{v_n})$\n",
    "\n",
    "<b>Step 3: </b> Apply the Cauchy-Schwarz Inequality\n",
    "Now, we apply the Cauchy-Schwarz Inequality for inner products of vectors. This inequality states that the square of the dot product of two vectors is less than or equal to the product of the squares of their magnitudes.\n",
    "\n",
    "For the sum of $u_i$, we have:\n",
    "- $\\left(\\sum_{i=1}^n u_i\\right)^2 \\leq n \\left(\\sum_{i=1}^n u_i^2\\right)$\n",
    "\n",
    "For the sum of $\\sqrt{v_i}$, we have:\n",
    "- $\\left(\\sum_{i=1}^n \\sqrt{v_i}\\right)^2 \\leq n \\left(\\sum_{i=1}^n v_i\\right)$\n",
    "\n",
    "<b>Step 4: </b> Rearrange the Equation:\n",
    "Rearranging, we get:\n",
    "- $\\frac{\\left(\\sum_{i=1}^n u_i\\right)^2}{\\sum_{i=1}^n v_i} \\leq \\frac{\\sum_{i=1}^n u_i^2}{\\sum_{i=1}^n v_i}$\n",
    "\n",
    "<b>Step 5: </b> Acknowledge the obtained expression as the final form:\n",
    "\\begin{gathered} \\frac{\\left(\\sum_{i=1}^n u_i\\right)^2}{\\sum_{i=1}^n v_i} \\leq \\frac{\\sum_{i=1}^n u_i^2}{\\sum_{i=1}^n v_i} \\end{gathered}"
   ]
  }
 ],
 "metadata": {
  "language_info": {
   "name": "python"
  }
 },
 "nbformat": 4,
 "nbformat_minor": 2
}
